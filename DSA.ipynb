{
  "nbformat": 4,
  "nbformat_minor": 0,
  "metadata": {
    "colab": {
      "provenance": [],
      "gpuType": "T4"
    },
    "kernelspec": {
      "name": "python3",
      "display_name": "Python 3"
    },
    "language_info": {
      "name": "python"
    },
    "accelerator": "GPU"
  },
  "cells": [
    {
      "cell_type": "code",
      "source": [
        "# !pip install jovian\n",
        "# from jovian.pythondsa import evaluate_test_cases"
      ],
      "metadata": {
        "colab": {
          "base_uri": "https://localhost:8080/",
          "height": 460
        },
        "id": "DWx_fmR25ERB",
        "outputId": "eb340073-4a9d-436c-a4c1-b4e204d01373"
      },
      "execution_count": 1,
      "outputs": [
        {
          "output_type": "stream",
          "name": "stdout",
          "text": [
            "Collecting jovian\n",
            "  Downloading jovian-0.2.47-py2.py3-none-any.whl (68 kB)\n",
            "\u001b[?25l     \u001b[90m━━━━━━━━━━━━━━━━━━━━━━━━━━━━━━━━━━━━━━━━\u001b[0m \u001b[32m0.0/68.6 kB\u001b[0m \u001b[31m?\u001b[0m eta \u001b[36m-:--:--\u001b[0m\r\u001b[2K     \u001b[90m━━━━━━━━━━━━━━━━━━━━━━━━━━━━━━━━━━━━━━━━\u001b[0m \u001b[32m68.6/68.6 kB\u001b[0m \u001b[31m2.7 MB/s\u001b[0m eta \u001b[36m0:00:00\u001b[0m\n",
            "\u001b[?25hRequirement already satisfied: requests in /usr/local/lib/python3.10/dist-packages (from jovian) (2.31.0)\n",
            "Collecting uuid (from jovian)\n",
            "  Downloading uuid-1.30.tar.gz (5.8 kB)\n",
            "  Preparing metadata (setup.py) ... \u001b[?25l\u001b[?25hdone\n",
            "Requirement already satisfied: pyyaml in /usr/local/lib/python3.10/dist-packages (from jovian) (6.0.1)\n",
            "Requirement already satisfied: click in /usr/local/lib/python3.10/dist-packages (from jovian) (8.1.7)\n",
            "Requirement already satisfied: charset-normalizer<4,>=2 in /usr/local/lib/python3.10/dist-packages (from requests->jovian) (3.3.2)\n",
            "Requirement already satisfied: idna<4,>=2.5 in /usr/local/lib/python3.10/dist-packages (from requests->jovian) (3.6)\n",
            "Requirement already satisfied: urllib3<3,>=1.21.1 in /usr/local/lib/python3.10/dist-packages (from requests->jovian) (2.0.7)\n",
            "Requirement already satisfied: certifi>=2017.4.17 in /usr/local/lib/python3.10/dist-packages (from requests->jovian) (2024.2.2)\n",
            "Building wheels for collected packages: uuid\n",
            "  Building wheel for uuid (setup.py) ... \u001b[?25l\u001b[?25hdone\n",
            "  Created wheel for uuid: filename=uuid-1.30-py3-none-any.whl size=6479 sha256=7bee08322fe37ac877a28b8cdcd4c19b38369e4805676ef61740f45f98ea36bc\n",
            "  Stored in directory: /root/.cache/pip/wheels/ed/08/9e/f0a977dfe55051a07e21af89200125d65f1efa60cbac61ed88\n",
            "Successfully built uuid\n",
            "Installing collected packages: uuid, jovian\n",
            "Successfully installed jovian-0.2.47 uuid-1.30\n"
          ]
        },
        {
          "output_type": "display_data",
          "data": {
            "application/vnd.colab-display-data+json": {
              "pip_warning": {
                "packages": [
                  "uuid"
                ]
              },
              "id": "1b4d9ce1f2f0453ba2713480c958be41"
            }
          },
          "metadata": {}
        }
      ]
    },
    {
      "cell_type": "markdown",
      "source": [
        "### Problem1: List Rotation"
      ],
      "metadata": {
        "id": "D35ePRZr3b66"
      }
    },
    {
      "cell_type": "markdown",
      "source": [
        "Linear Search Solution:\n",
        "1. Create a variable position with value 0\n",
        "2. Compare the number at current position with the number before it\n",
        "3. If number is smaller then it's predecessor, return position\n",
        "4. Else, increment the position by 1"
      ],
      "metadata": {
        "id": "QBFP4fU23nvW"
      }
    },
    {
      "cell_type": "code",
      "execution_count": 2,
      "metadata": {
        "id": "jyLMPBlz3Utr"
      },
      "outputs": [],
      "source": [
        "test0 = {\n",
        "    'input': {\n",
        "        'nums': [19,25,29,3,5,6,7,9,11,14]\n",
        "    },\n",
        "    'output': 3\n",
        "}\n",
        "\n",
        "test1 = {\n",
        "    'input': {\n",
        "        'nums': [4,5,6,7,8,1,2,3]\n",
        "    },\n",
        "    'output': 5\n",
        "}\n",
        "\n",
        "test2 = {\n",
        "    'input': {\n",
        "        'nums': [7,3,5]\n",
        "    },\n",
        "    'output': 1\n",
        "}\n",
        "\n",
        "test3 = {\n",
        "    'input': {\n",
        "        'nums': [3,5,7,8,9,10]\n",
        "    },\n",
        "    'output': 0\n",
        "}\n",
        "\n",
        "tests = [test0, test1, test2, test3]"
      ]
    },
    {
      "cell_type": "code",
      "source": [
        "def count_rotations_linear(nums):\n",
        "  position = 0\n",
        "  while position < len(nums):\n",
        "    if position > 0 and nums[position] < nums[position - 1]:\n",
        "      return position\n",
        "    position += 1\n",
        "  return 0"
      ],
      "metadata": {
        "id": "dRObds5W3upK"
      },
      "execution_count": 3,
      "outputs": []
    },
    {
      "cell_type": "code",
      "source": [
        "linear_search_result = evaluate_test_cases(count_rotations_linear, tests)"
      ],
      "metadata": {
        "colab": {
          "base_uri": "https://localhost:8080/"
        },
        "id": "qUoNkSJU3wJC",
        "outputId": "02449994-07ad-4cbc-848e-1c833b29e429"
      },
      "execution_count": 4,
      "outputs": [
        {
          "output_type": "stream",
          "name": "stdout",
          "text": [
            "\n",
            "\u001b[1mTEST CASE #0\u001b[0m\n",
            "\n",
            "Input:\n",
            "{'nums': [19, 25, 29, 3, 5, 6, 7, 9, 11, 14]}\n",
            "\n",
            "Expected Output:\n",
            "3\n",
            "\n",
            "\n",
            "Actual Output:\n",
            "3\n",
            "\n",
            "Execution Time:\n",
            "0.005 ms\n",
            "\n",
            "Test Result:\n",
            "\u001b[92mPASSED\u001b[0m\n",
            "\n",
            "\n",
            "\u001b[1mTEST CASE #1\u001b[0m\n",
            "\n",
            "Input:\n",
            "{'nums': [4, 5, 6, 7, 8, 1, 2, 3]}\n",
            "\n",
            "Expected Output:\n",
            "5\n",
            "\n",
            "\n",
            "Actual Output:\n",
            "5\n",
            "\n",
            "Execution Time:\n",
            "0.004 ms\n",
            "\n",
            "Test Result:\n",
            "\u001b[92mPASSED\u001b[0m\n",
            "\n",
            "\n",
            "\u001b[1mTEST CASE #2\u001b[0m\n",
            "\n",
            "Input:\n",
            "{'nums': [7, 3, 5]}\n",
            "\n",
            "Expected Output:\n",
            "1\n",
            "\n",
            "\n",
            "Actual Output:\n",
            "1\n",
            "\n",
            "Execution Time:\n",
            "0.002 ms\n",
            "\n",
            "Test Result:\n",
            "\u001b[92mPASSED\u001b[0m\n",
            "\n",
            "\n",
            "\u001b[1mTEST CASE #3\u001b[0m\n",
            "\n",
            "Input:\n",
            "{'nums': [3, 5, 7, 8, 9, 10]}\n",
            "\n",
            "Expected Output:\n",
            "0\n",
            "\n",
            "\n",
            "Actual Output:\n",
            "0\n",
            "\n",
            "Execution Time:\n",
            "0.004 ms\n",
            "\n",
            "Test Result:\n",
            "\u001b[92mPASSED\u001b[0m\n",
            "\n",
            "\n",
            "\u001b[1mSUMMARY\u001b[0m\n",
            "\n",
            "TOTAL: 4, \u001b[92mPASSED\u001b[0m: 4, \u001b[91mFAILED\u001b[0m: 0\n"
          ]
        }
      ]
    },
    {
      "cell_type": "markdown",
      "source": [
        "Binary Search Solution:\n"
      ],
      "metadata": {
        "id": "tSi0oCTL36j8"
      }
    },
    {
      "cell_type": "code",
      "source": [
        "def count_rotations_binary(nums):\n",
        "  lo, hi = 0, len(nums) - 1\n",
        "  while lo <= hi:\n",
        "    mid = (lo+hi) // 2\n",
        "    mid_number = nums[mid]\n",
        "    if mid > 0 and nums[mid] < nums[mid - 1]:\n",
        "      return mid\n",
        "    elif nums[mid] <= nums[hi]:\n",
        "      hi = mid - 1\n",
        "    else:\n",
        "      lo = mid + 1\n",
        "  return 0"
      ],
      "metadata": {
        "id": "M3Pa-D4U35-z"
      },
      "execution_count": 7,
      "outputs": []
    },
    {
      "cell_type": "code",
      "source": [
        "linear_search_result = evaluate_test_cases(count_rotations_binary, tests)"
      ],
      "metadata": {
        "colab": {
          "base_uri": "https://localhost:8080/"
        },
        "id": "di8QpsH04Gf9",
        "outputId": "90e1b889-6d58-4ad8-e2da-314d641314f4"
      },
      "execution_count": 8,
      "outputs": [
        {
          "output_type": "stream",
          "name": "stdout",
          "text": [
            "\n",
            "\u001b[1mTEST CASE #0\u001b[0m\n",
            "\n",
            "Input:\n",
            "{'nums': [19, 25, 29, 3, 5, 6, 7, 9, 11, 14]}\n",
            "\n",
            "Expected Output:\n",
            "3\n",
            "\n",
            "\n",
            "Actual Output:\n",
            "3\n",
            "\n",
            "Execution Time:\n",
            "0.007 ms\n",
            "\n",
            "Test Result:\n",
            "\u001b[92mPASSED\u001b[0m\n",
            "\n",
            "\n",
            "\u001b[1mTEST CASE #1\u001b[0m\n",
            "\n",
            "Input:\n",
            "{'nums': [4, 5, 6, 7, 8, 1, 2, 3]}\n",
            "\n",
            "Expected Output:\n",
            "5\n",
            "\n",
            "\n",
            "Actual Output:\n",
            "5\n",
            "\n",
            "Execution Time:\n",
            "0.005 ms\n",
            "\n",
            "Test Result:\n",
            "\u001b[92mPASSED\u001b[0m\n",
            "\n",
            "\n",
            "\u001b[1mTEST CASE #2\u001b[0m\n",
            "\n",
            "Input:\n",
            "{'nums': [7, 3, 5]}\n",
            "\n",
            "Expected Output:\n",
            "1\n",
            "\n",
            "\n",
            "Actual Output:\n",
            "1\n",
            "\n",
            "Execution Time:\n",
            "0.003 ms\n",
            "\n",
            "Test Result:\n",
            "\u001b[92mPASSED\u001b[0m\n",
            "\n",
            "\n",
            "\u001b[1mTEST CASE #3\u001b[0m\n",
            "\n",
            "Input:\n",
            "{'nums': [3, 5, 7, 8, 9, 10]}\n",
            "\n",
            "Expected Output:\n",
            "0\n",
            "\n",
            "\n",
            "Actual Output:\n",
            "0\n",
            "\n",
            "Execution Time:\n",
            "0.004 ms\n",
            "\n",
            "Test Result:\n",
            "\u001b[92mPASSED\u001b[0m\n",
            "\n",
            "\n",
            "\u001b[1mSUMMARY\u001b[0m\n",
            "\n",
            "TOTAL: 4, \u001b[92mPASSED\u001b[0m: 4, \u001b[91mFAILED\u001b[0m: 0\n"
          ]
        }
      ]
    },
    {
      "cell_type": "markdown",
      "source": [
        "### Binary Trees"
      ],
      "metadata": {
        "id": "3kfjHTqV4KLw"
      }
    },
    {
      "cell_type": "code",
      "source": [],
      "metadata": {
        "id": "lZSv-GdS4NyD"
      },
      "execution_count": null,
      "outputs": []
    },
    {
      "cell_type": "markdown",
      "source": [
        "### Sorting"
      ],
      "metadata": {
        "id": "upEXxoBu4PXJ"
      }
    },
    {
      "cell_type": "code",
      "source": [
        "# Test Cases\n",
        "test0 = {\n",
        "    'input': {\n",
        "        'nums': [4,2,6,3,4,6,2,1]\n",
        "    },\n",
        "    'output': [1,2,2,3,4,4,6,6]\n",
        "}\n",
        "\n",
        "test1 = {\n",
        "    'input': {\n",
        "        'nums': [5,2,6,1,23,7,-12,12,-243,0]\n",
        "    },\n",
        "    'output': [-243,-12,0,1,2,5,6,7,12,23]\n",
        "}\n",
        "\n",
        "test2 = {\n",
        "    'input': {\n",
        "        'nums': [3,5,6,8,9,10,99]\n",
        "    },\n",
        "    'output': [3,5,6,8,9,10,99]\n",
        "}\n",
        "\n",
        "test3 = {\n",
        "    'input': {\n",
        "        'nums': [99]\n",
        "    },\n",
        "    'output': [99]\n",
        "}\n",
        "\n",
        "test4 = {\n",
        "    'input': {\n",
        "        'nums': []\n",
        "    },\n",
        "    'output': []\n",
        "}\n",
        "\n",
        "test5 = {\n",
        "    'input': {\n",
        "        'nums': [22,22,22,22,22,22,22,22,22]\n",
        "    },\n",
        "    'output': [22,22,22,22,22,22,22,22,22]\n",
        "}"
      ],
      "metadata": {
        "id": "w_ZptWvz4QUK"
      },
      "execution_count": 9,
      "outputs": []
    },
    {
      "cell_type": "code",
      "source": [
        "# Creating a really long list\n",
        "import random\n",
        "\n",
        "in_list = list(range(10000))\n",
        "out_list = list(range(10000))\n",
        "random.shuffle(in_list)\n",
        "\n",
        "test6 = {\n",
        "    'input': {\n",
        "        'nums': in_list\n",
        "    },\n",
        "    'output': out_list\n",
        "}"
      ],
      "metadata": {
        "id": "x_sR-uiQ4VZA"
      },
      "execution_count": 10,
      "outputs": []
    },
    {
      "cell_type": "code",
      "source": [
        "out_list[:10]"
      ],
      "metadata": {
        "colab": {
          "base_uri": "https://localhost:8080/"
        },
        "id": "EHONLOLw4Ww_",
        "outputId": "01a45f03-26b6-4f14-8a3e-e38599d1b4d9"
      },
      "execution_count": 11,
      "outputs": [
        {
          "output_type": "execute_result",
          "data": {
            "text/plain": [
              "[0, 1, 2, 3, 4, 5, 6, 7, 8, 9]"
            ]
          },
          "metadata": {},
          "execution_count": 11
        }
      ]
    },
    {
      "cell_type": "code",
      "source": [
        "tests = [test0, test1, test2, test3, test4, test5, test6]"
      ],
      "metadata": {
        "id": "eVGzVVgR4YsF"
      },
      "execution_count": 12,
      "outputs": []
    },
    {
      "cell_type": "markdown",
      "source": [
        "Bubble Sort:"
      ],
      "metadata": {
        "id": "3pfOkTY64gJK"
      }
    },
    {
      "cell_type": "code",
      "source": [
        "def bubble_sort(nums):\n",
        "  nums_copy = nums.copy()\n",
        "  for _ in range(len(nums)-1):\n",
        "    for i in range(len(nums)-1):\n",
        "      if nums[i]>nums[i+1]:\n",
        "        nums[i], nums[i+1] = nums[i+1], nums[i]\n",
        "  return nums"
      ],
      "metadata": {
        "id": "YX6FRyNB4hhp"
      },
      "execution_count": 13,
      "outputs": []
    },
    {
      "cell_type": "code",
      "source": [
        "nums0, output0 = test0['input']['nums'], test0['output']\n",
        "\n",
        "print('Input:', nums0)\n",
        "print('Expexted Output:', output0)\n",
        "\n",
        "result0 = bubble_sort(nums0)\n",
        "\n",
        "print('Actual output', result0)\n",
        "print('Match:', result0 == output0)"
      ],
      "metadata": {
        "colab": {
          "base_uri": "https://localhost:8080/"
        },
        "id": "uBAIgVJY4lb_",
        "outputId": "0ee1eaf6-cca6-4b70-87b1-362fafce8049"
      },
      "execution_count": 14,
      "outputs": [
        {
          "output_type": "stream",
          "name": "stdout",
          "text": [
            "Input: [4, 2, 6, 3, 4, 6, 2, 1]\n",
            "Expexted Output: [1, 2, 2, 3, 4, 4, 6, 6]\n",
            "Actual output [1, 2, 2, 3, 4, 4, 6, 6]\n",
            "Match: True\n"
          ]
        }
      ]
    },
    {
      "cell_type": "code",
      "source": [
        "results = evaluate_test_cases(bubble_sort, tests)"
      ],
      "metadata": {
        "colab": {
          "base_uri": "https://localhost:8080/"
        },
        "id": "s5SkXWFH4mpf",
        "outputId": "74b1c2a6-bc63-4eec-fdcd-199753919556"
      },
      "execution_count": 15,
      "outputs": [
        {
          "output_type": "stream",
          "name": "stdout",
          "text": [
            "\n",
            "\u001b[1mTEST CASE #0\u001b[0m\n",
            "\n",
            "Input:\n",
            "{'nums': [1, 2, 2, 3, 4, 4, 6, 6]}\n",
            "\n",
            "Expected Output:\n",
            "[1, 2, 2, 3, 4, 4, 6, 6]\n",
            "\n",
            "\n",
            "Actual Output:\n",
            "[1, 2, 2, 3, 4, 4, 6, 6]\n",
            "\n",
            "Execution Time:\n",
            "0.015 ms\n",
            "\n",
            "Test Result:\n",
            "\u001b[92mPASSED\u001b[0m\n",
            "\n",
            "\n",
            "\u001b[1mTEST CASE #1\u001b[0m\n",
            "\n",
            "Input:\n",
            "{'nums': [-243, -12, 0, 1, 2, 5, 6, 7, 12, 23]}\n",
            "\n",
            "Expected Output:\n",
            "[-243, -12, 0, 1, 2, 5, 6, 7, 12, 23]\n",
            "\n",
            "\n",
            "Actual Output:\n",
            "[-243, -12, 0, 1, 2, 5, 6, 7, 12, 23]\n",
            "\n",
            "Execution Time:\n",
            "0.027 ms\n",
            "\n",
            "Test Result:\n",
            "\u001b[92mPASSED\u001b[0m\n",
            "\n",
            "\n",
            "\u001b[1mTEST CASE #2\u001b[0m\n",
            "\n",
            "Input:\n",
            "{'nums': [3, 5, 6, 8, 9, 10, 99]}\n",
            "\n",
            "Expected Output:\n",
            "[3, 5, 6, 8, 9, 10, 99]\n",
            "\n",
            "\n",
            "Actual Output:\n",
            "[3, 5, 6, 8, 9, 10, 99]\n",
            "\n",
            "Execution Time:\n",
            "0.021 ms\n",
            "\n",
            "Test Result:\n",
            "\u001b[92mPASSED\u001b[0m\n",
            "\n",
            "\n",
            "\u001b[1mTEST CASE #3\u001b[0m\n",
            "\n",
            "Input:\n",
            "{'nums': [99]}\n",
            "\n",
            "Expected Output:\n",
            "[99]\n",
            "\n",
            "\n",
            "Actual Output:\n",
            "[99]\n",
            "\n",
            "Execution Time:\n",
            "0.002 ms\n",
            "\n",
            "Test Result:\n",
            "\u001b[92mPASSED\u001b[0m\n",
            "\n",
            "\n",
            "\u001b[1mTEST CASE #4\u001b[0m\n",
            "\n",
            "Input:\n",
            "{'nums': []}\n",
            "\n",
            "Expected Output:\n",
            "[]\n",
            "\n",
            "\n",
            "Actual Output:\n",
            "[]\n",
            "\n",
            "Execution Time:\n",
            "0.005 ms\n",
            "\n",
            "Test Result:\n",
            "\u001b[92mPASSED\u001b[0m\n",
            "\n",
            "\n",
            "\u001b[1mTEST CASE #5\u001b[0m\n",
            "\n",
            "Input:\n",
            "{'nums': [22, 22, 22, 22, 22, 22, 22, 22, 22]}\n",
            "\n",
            "Expected Output:\n",
            "[22, 22, 22, 22, 22, 22, 22, 22, 22]\n",
            "\n",
            "\n",
            "Actual Output:\n",
            "[22, 22, 22, 22, 22, 22, 22, 22, 22]\n",
            "\n",
            "Execution Time:\n",
            "0.015 ms\n",
            "\n",
            "Test Result:\n",
            "\u001b[92mPASSED\u001b[0m\n",
            "\n",
            "\n",
            "\u001b[1mTEST CASE #6\u001b[0m\n",
            "\n",
            "Input:\n",
            "{'nums': [0, 1, 2, 3, 4, 5, 6, 7, 8, 9, 10, 11, 12, 13, 14, 15, 16, 17, 18, 19, 20, 21, 22, 23, 24, ...\n",
            "\n",
            "Expected Output:\n",
            "[0, 1, 2, 3, 4, 5, 6, 7, 8, 9, 10, 11, 12, 13, 14, 15, 16, 17, 18, 19, 20, 21, 22, 23, 24, 25, 26, 2...\n",
            "\n",
            "\n",
            "Actual Output:\n",
            "[0, 1, 2, 3, 4, 5, 6, 7, 8, 9, 10, 11, 12, 13, 14, 15, 16, 17, 18, 19, 20, 21, 22, 23, 24, 25, 26, 2...\n",
            "\n",
            "Execution Time:\n",
            "14427.208 ms\n",
            "\n",
            "Test Result:\n",
            "\u001b[92mPASSED\u001b[0m\n",
            "\n",
            "\n",
            "\u001b[1mSUMMARY\u001b[0m\n",
            "\n",
            "TOTAL: 7, \u001b[92mPASSED\u001b[0m: 7, \u001b[91mFAILED\u001b[0m: 0\n"
          ]
        }
      ]
    },
    {
      "cell_type": "markdown",
      "source": [
        "Insertion Sort:"
      ],
      "metadata": {
        "id": "p43bHpIg4pgh"
      }
    },
    {
      "cell_type": "code",
      "source": [
        "def insertion_sort(nums):\n",
        "  muns = list(nums)\n",
        "  for i in range(len(nums)):\n",
        "    cur = nums.pop(i)\n",
        "    j = i-1\n",
        "    while j>=0 and nums[j]>cur:\n",
        "      j -= 1\n",
        "    nums.insert(j+1, cur)\n",
        "  return nums"
      ],
      "metadata": {
        "id": "a7EEi3UG4rIu"
      },
      "execution_count": 16,
      "outputs": []
    },
    {
      "cell_type": "code",
      "source": [
        "results = evaluate_test_cases(insertion_sort, tests)"
      ],
      "metadata": {
        "colab": {
          "base_uri": "https://localhost:8080/"
        },
        "id": "qTT0_5go4vJM",
        "outputId": "b3078ebf-998c-4f9d-b2aa-60d6b6bd4bf1"
      },
      "execution_count": 17,
      "outputs": [
        {
          "output_type": "stream",
          "name": "stdout",
          "text": [
            "\n",
            "\u001b[1mTEST CASE #0\u001b[0m\n",
            "\n",
            "Input:\n",
            "{'nums': [1, 2, 2, 3, 4, 4, 6, 6]}\n",
            "\n",
            "Expected Output:\n",
            "[1, 2, 2, 3, 4, 4, 6, 6]\n",
            "\n",
            "\n",
            "Actual Output:\n",
            "[1, 2, 2, 3, 4, 4, 6, 6]\n",
            "\n",
            "Execution Time:\n",
            "0.01 ms\n",
            "\n",
            "Test Result:\n",
            "\u001b[92mPASSED\u001b[0m\n",
            "\n",
            "\n",
            "\u001b[1mTEST CASE #1\u001b[0m\n",
            "\n",
            "Input:\n",
            "{'nums': [-243, -12, 0, 1, 2, 5, 6, 7, 12, 23]}\n",
            "\n",
            "Expected Output:\n",
            "[-243, -12, 0, 1, 2, 5, 6, 7, 12, 23]\n",
            "\n",
            "\n",
            "Actual Output:\n",
            "[-243, -12, 0, 1, 2, 5, 6, 7, 12, 23]\n",
            "\n",
            "Execution Time:\n",
            "0.01 ms\n",
            "\n",
            "Test Result:\n",
            "\u001b[92mPASSED\u001b[0m\n",
            "\n",
            "\n",
            "\u001b[1mTEST CASE #2\u001b[0m\n",
            "\n",
            "Input:\n",
            "{'nums': [3, 5, 6, 8, 9, 10, 99]}\n",
            "\n",
            "Expected Output:\n",
            "[3, 5, 6, 8, 9, 10, 99]\n",
            "\n",
            "\n",
            "Actual Output:\n",
            "[3, 5, 6, 8, 9, 10, 99]\n",
            "\n",
            "Execution Time:\n",
            "0.007 ms\n",
            "\n",
            "Test Result:\n",
            "\u001b[92mPASSED\u001b[0m\n",
            "\n",
            "\n",
            "\u001b[1mTEST CASE #3\u001b[0m\n",
            "\n",
            "Input:\n",
            "{'nums': [99]}\n",
            "\n",
            "Expected Output:\n",
            "[99]\n",
            "\n",
            "\n",
            "Actual Output:\n",
            "[99]\n",
            "\n",
            "Execution Time:\n",
            "0.004 ms\n",
            "\n",
            "Test Result:\n",
            "\u001b[92mPASSED\u001b[0m\n",
            "\n",
            "\n",
            "\u001b[1mTEST CASE #4\u001b[0m\n",
            "\n",
            "Input:\n",
            "{'nums': []}\n",
            "\n",
            "Expected Output:\n",
            "[]\n",
            "\n",
            "\n",
            "Actual Output:\n",
            "[]\n",
            "\n",
            "Execution Time:\n",
            "0.003 ms\n",
            "\n",
            "Test Result:\n",
            "\u001b[92mPASSED\u001b[0m\n",
            "\n",
            "\n",
            "\u001b[1mTEST CASE #5\u001b[0m\n",
            "\n",
            "Input:\n",
            "{'nums': [22, 22, 22, 22, 22, 22, 22, 22, 22]}\n",
            "\n",
            "Expected Output:\n",
            "[22, 22, 22, 22, 22, 22, 22, 22, 22]\n",
            "\n",
            "\n",
            "Actual Output:\n",
            "[22, 22, 22, 22, 22, 22, 22, 22, 22]\n",
            "\n",
            "Execution Time:\n",
            "0.007 ms\n",
            "\n",
            "Test Result:\n",
            "\u001b[92mPASSED\u001b[0m\n",
            "\n",
            "\n",
            "\u001b[1mTEST CASE #6\u001b[0m\n",
            "\n",
            "Input:\n",
            "{'nums': [0, 1, 2, 3, 4, 5, 6, 7, 8, 9, 10, 11, 12, 13, 14, 15, 16, 17, 18, 19, 20, 21, 22, 23, 24, ...\n",
            "\n",
            "Expected Output:\n",
            "[0, 1, 2, 3, 4, 5, 6, 7, 8, 9, 10, 11, 12, 13, 14, 15, 16, 17, 18, 19, 20, 21, 22, 23, 24, 25, 26, 2...\n",
            "\n",
            "\n",
            "Actual Output:\n",
            "[0, 1, 2, 3, 4, 5, 6, 7, 8, 9, 10, 11, 12, 13, 14, 15, 16, 17, 18, 19, 20, 21, 22, 23, 24, 25, 26, 2...\n",
            "\n",
            "Execution Time:\n",
            "31.527 ms\n",
            "\n",
            "Test Result:\n",
            "\u001b[92mPASSED\u001b[0m\n",
            "\n",
            "\n",
            "\u001b[1mSUMMARY\u001b[0m\n",
            "\n",
            "TOTAL: 7, \u001b[92mPASSED\u001b[0m: 7, \u001b[91mFAILED\u001b[0m: 0\n"
          ]
        }
      ]
    },
    {
      "cell_type": "markdown",
      "source": [
        "Merge Sort:"
      ],
      "metadata": {
        "id": "gtAQlPGp4wpo"
      }
    },
    {
      "cell_type": "code",
      "source": [
        "def merge(nums1, nums2):\n",
        "  merged = []\n",
        "  i,j = 0,0\n",
        "  while i<len(nums1) and j<len(nums2):\n",
        "    if nums1[i]<=nums2[j]:\n",
        "      merged.append(nums1[i])\n",
        "      i += 1\n",
        "    else:\n",
        "      merged.append(nums2[j])\n",
        "      j += 1\n",
        "\n",
        "  nums1_tail = nums1[i:]\n",
        "  nums2_tail = nums2[j:]\n",
        "\n",
        "  return merged + nums1_tail + nums2_tail"
      ],
      "metadata": {
        "id": "ru2wprWa4xxj"
      },
      "execution_count": 18,
      "outputs": []
    },
    {
      "cell_type": "code",
      "source": [
        "merge([1,4,7,9,11],[-1,0,2,3,8,12])"
      ],
      "metadata": {
        "colab": {
          "base_uri": "https://localhost:8080/"
        },
        "id": "MRDCpcKh41-W",
        "outputId": "b288926d-6b58-47c0-d8f4-7394847b3b38"
      },
      "execution_count": 19,
      "outputs": [
        {
          "output_type": "execute_result",
          "data": {
            "text/plain": [
              "[-1, 0, 1, 2, 3, 4, 7, 8, 9, 11, 12]"
            ]
          },
          "metadata": {},
          "execution_count": 19
        }
      ]
    },
    {
      "cell_type": "code",
      "source": [
        "def merge_sort(nums):\n",
        "  if len(nums)<=1:\n",
        "    return nums\n",
        "\n",
        "  mid = len(nums)//2\n",
        "  left = nums[:mid]\n",
        "  right = nums[mid:]\n",
        "\n",
        "  left_sorted, right_sorted = merge_sort(left), merge_sort(right)\n",
        "  sorted_nums = merge(left_sorted, right_sorted)\n",
        "\n",
        "  return sorted_nums"
      ],
      "metadata": {
        "id": "-oR2400y42u1"
      },
      "execution_count": 20,
      "outputs": []
    },
    {
      "cell_type": "code",
      "source": [
        "results = evaluate_test_cases(merge_sort, tests)"
      ],
      "metadata": {
        "colab": {
          "base_uri": "https://localhost:8080/"
        },
        "id": "AXGiL_g944dP",
        "outputId": "2658bfaa-6538-4fde-c098-8c9f3481d142"
      },
      "execution_count": 21,
      "outputs": [
        {
          "output_type": "stream",
          "name": "stdout",
          "text": [
            "\n",
            "\u001b[1mTEST CASE #0\u001b[0m\n",
            "\n",
            "Input:\n",
            "{'nums': [1, 2, 2, 3, 4, 4, 6, 6]}\n",
            "\n",
            "Expected Output:\n",
            "[1, 2, 2, 3, 4, 4, 6, 6]\n",
            "\n",
            "\n",
            "Actual Output:\n",
            "[1, 2, 2, 3, 4, 4, 6, 6]\n",
            "\n",
            "Execution Time:\n",
            "0.026 ms\n",
            "\n",
            "Test Result:\n",
            "\u001b[92mPASSED\u001b[0m\n",
            "\n",
            "\n",
            "\u001b[1mTEST CASE #1\u001b[0m\n",
            "\n",
            "Input:\n",
            "{'nums': [-243, -12, 0, 1, 2, 5, 6, 7, 12, 23]}\n",
            "\n",
            "Expected Output:\n",
            "[-243, -12, 0, 1, 2, 5, 6, 7, 12, 23]\n",
            "\n",
            "\n",
            "Actual Output:\n",
            "[-243, -12, 0, 1, 2, 5, 6, 7, 12, 23]\n",
            "\n",
            "Execution Time:\n",
            "0.029 ms\n",
            "\n",
            "Test Result:\n",
            "\u001b[92mPASSED\u001b[0m\n",
            "\n",
            "\n",
            "\u001b[1mTEST CASE #2\u001b[0m\n",
            "\n",
            "Input:\n",
            "{'nums': [3, 5, 6, 8, 9, 10, 99]}\n",
            "\n",
            "Expected Output:\n",
            "[3, 5, 6, 8, 9, 10, 99]\n",
            "\n",
            "\n",
            "Actual Output:\n",
            "[3, 5, 6, 8, 9, 10, 99]\n",
            "\n",
            "Execution Time:\n",
            "0.016 ms\n",
            "\n",
            "Test Result:\n",
            "\u001b[92mPASSED\u001b[0m\n",
            "\n",
            "\n",
            "\u001b[1mTEST CASE #3\u001b[0m\n",
            "\n",
            "Input:\n",
            "{'nums': [99]}\n",
            "\n",
            "Expected Output:\n",
            "[99]\n",
            "\n",
            "\n",
            "Actual Output:\n",
            "[99]\n",
            "\n",
            "Execution Time:\n",
            "0.002 ms\n",
            "\n",
            "Test Result:\n",
            "\u001b[92mPASSED\u001b[0m\n",
            "\n",
            "\n",
            "\u001b[1mTEST CASE #4\u001b[0m\n",
            "\n",
            "Input:\n",
            "{'nums': []}\n",
            "\n",
            "Expected Output:\n",
            "[]\n",
            "\n",
            "\n",
            "Actual Output:\n",
            "[]\n",
            "\n",
            "Execution Time:\n",
            "0.002 ms\n",
            "\n",
            "Test Result:\n",
            "\u001b[92mPASSED\u001b[0m\n",
            "\n",
            "\n",
            "\u001b[1mTEST CASE #5\u001b[0m\n",
            "\n",
            "Input:\n",
            "{'nums': [22, 22, 22, 22, 22, 22, 22, 22, 22]}\n",
            "\n",
            "Expected Output:\n",
            "[22, 22, 22, 22, 22, 22, 22, 22, 22]\n",
            "\n",
            "\n",
            "Actual Output:\n",
            "[22, 22, 22, 22, 22, 22, 22, 22, 22]\n",
            "\n",
            "Execution Time:\n",
            "0.025 ms\n",
            "\n",
            "Test Result:\n",
            "\u001b[92mPASSED\u001b[0m\n",
            "\n",
            "\n",
            "\u001b[1mTEST CASE #6\u001b[0m\n",
            "\n",
            "Input:\n",
            "{'nums': [0, 1, 2, 3, 4, 5, 6, 7, 8, 9, 10, 11, 12, 13, 14, 15, 16, 17, 18, 19, 20, 21, 22, 23, 24, ...\n",
            "\n",
            "Expected Output:\n",
            "[0, 1, 2, 3, 4, 5, 6, 7, 8, 9, 10, 11, 12, 13, 14, 15, 16, 17, 18, 19, 20, 21, 22, 23, 24, 25, 26, 2...\n",
            "\n",
            "\n",
            "Actual Output:\n",
            "[0, 1, 2, 3, 4, 5, 6, 7, 8, 9, 10, 11, 12, 13, 14, 15, 16, 17, 18, 19, 20, 21, 22, 23, 24, 25, 26, 2...\n",
            "\n",
            "Execution Time:\n",
            "31.695 ms\n",
            "\n",
            "Test Result:\n",
            "\u001b[92mPASSED\u001b[0m\n",
            "\n",
            "\n",
            "\u001b[1mSUMMARY\u001b[0m\n",
            "\n",
            "TOTAL: 7, \u001b[92mPASSED\u001b[0m: 7, \u001b[91mFAILED\u001b[0m: 0\n"
          ]
        }
      ]
    },
    {
      "cell_type": "markdown",
      "source": [
        "Quick Sort:"
      ],
      "metadata": {
        "id": "S2gQV53N46Lu"
      }
    },
    {
      "cell_type": "code",
      "source": [
        "def partition(nums, start=0, end=None):\n",
        "  if end is None:\n",
        "    end = len(nums)-1\n",
        "\n",
        "  l,r = start,end-1\n",
        "  while r>l:\n",
        "    if nums[l]<=nums[end]:\n",
        "      l+=1\n",
        "    elif nums[r]>nums[end]:\n",
        "      r-=1\n",
        "    else:\n",
        "      nums[l],nums[r] = nums[r], nums[l]\n",
        "\n",
        "  if nums[l]>nums[end]:\n",
        "    nums[l], nums[end] = nums[end], nums[l]\n",
        "    return l\n",
        "  else:\n",
        "    return end"
      ],
      "metadata": {
        "id": "9M4hGrzB47eI"
      },
      "execution_count": 22,
      "outputs": []
    },
    {
      "cell_type": "code",
      "source": [
        "# example of partition function\n",
        "l1=[1,5,6,2,0,11,3]\n",
        "pivot = partition(l1)\n",
        "print(l1, pivot)"
      ],
      "metadata": {
        "colab": {
          "base_uri": "https://localhost:8080/"
        },
        "id": "jaVXb9nJ4_nT",
        "outputId": "9b9e949c-65a8-46f9-9293-8166ef60dbe3"
      },
      "execution_count": 23,
      "outputs": [
        {
          "output_type": "stream",
          "name": "stdout",
          "text": [
            "[1, 0, 2, 3, 5, 11, 6] 3\n"
          ]
        }
      ]
    },
    {
      "cell_type": "code",
      "source": [
        "def quick_sort(nums, start = 0, end = None):\n",
        "  if end is None:\n",
        "    nums = nums.copy()\n",
        "    end = len(nums) -1\n",
        "\n",
        "  if start < end:\n",
        "    pivot = partition(nums,start,end)\n",
        "    quick_sort(nums, start, pivot-1)\n",
        "    quick_sort(nums, pivot+1, end)\n",
        "\n",
        "  return nums"
      ],
      "metadata": {
        "id": "OigPGN4W4-vM"
      },
      "execution_count": 24,
      "outputs": []
    },
    {
      "cell_type": "code",
      "source": [
        "results = evaluate_test_cases(quick_sort, tests)"
      ],
      "metadata": {
        "colab": {
          "base_uri": "https://localhost:8080/",
          "height": 1000
        },
        "id": "r-H04pLp5A22",
        "outputId": "f858274c-e8f0-48f3-a935-a755324b02ff"
      },
      "execution_count": 25,
      "outputs": [
        {
          "output_type": "stream",
          "name": "stdout",
          "text": [
            "\n",
            "\u001b[1mTEST CASE #0\u001b[0m\n",
            "\n",
            "Input:\n",
            "{'nums': [1, 2, 2, 3, 4, 4, 6, 6]}\n",
            "\n",
            "Expected Output:\n",
            "[1, 2, 2, 3, 4, 4, 6, 6]\n",
            "\n",
            "\n",
            "Actual Output:\n",
            "[1, 2, 2, 3, 4, 4, 6, 6]\n",
            "\n",
            "Execution Time:\n",
            "0.018 ms\n",
            "\n",
            "Test Result:\n",
            "\u001b[92mPASSED\u001b[0m\n",
            "\n",
            "\n",
            "\u001b[1mTEST CASE #1\u001b[0m\n",
            "\n",
            "Input:\n",
            "{'nums': [-243, -12, 0, 1, 2, 5, 6, 7, 12, 23]}\n",
            "\n",
            "Expected Output:\n",
            "[-243, -12, 0, 1, 2, 5, 6, 7, 12, 23]\n",
            "\n",
            "\n",
            "Actual Output:\n",
            "[-243, -12, 0, 1, 2, 5, 6, 7, 12, 23]\n",
            "\n",
            "Execution Time:\n",
            "0.017 ms\n",
            "\n",
            "Test Result:\n",
            "\u001b[92mPASSED\u001b[0m\n",
            "\n",
            "\n",
            "\u001b[1mTEST CASE #2\u001b[0m\n",
            "\n",
            "Input:\n",
            "{'nums': [3, 5, 6, 8, 9, 10, 99]}\n",
            "\n",
            "Expected Output:\n",
            "[3, 5, 6, 8, 9, 10, 99]\n",
            "\n",
            "\n",
            "Actual Output:\n",
            "[3, 5, 6, 8, 9, 10, 99]\n",
            "\n",
            "Execution Time:\n",
            "0.01 ms\n",
            "\n",
            "Test Result:\n",
            "\u001b[92mPASSED\u001b[0m\n",
            "\n",
            "\n",
            "\u001b[1mTEST CASE #3\u001b[0m\n",
            "\n",
            "Input:\n",
            "{'nums': [99]}\n",
            "\n",
            "Expected Output:\n",
            "[99]\n",
            "\n",
            "\n",
            "Actual Output:\n",
            "[99]\n",
            "\n",
            "Execution Time:\n",
            "0.002 ms\n",
            "\n",
            "Test Result:\n",
            "\u001b[92mPASSED\u001b[0m\n",
            "\n",
            "\n",
            "\u001b[1mTEST CASE #4\u001b[0m\n",
            "\n",
            "Input:\n",
            "{'nums': []}\n",
            "\n",
            "Expected Output:\n",
            "[]\n",
            "\n",
            "\n",
            "Actual Output:\n",
            "[]\n",
            "\n",
            "Execution Time:\n",
            "0.002 ms\n",
            "\n",
            "Test Result:\n",
            "\u001b[92mPASSED\u001b[0m\n",
            "\n",
            "\n",
            "\u001b[1mTEST CASE #5\u001b[0m\n",
            "\n",
            "Input:\n",
            "{'nums': [22, 22, 22, 22, 22, 22, 22, 22, 22]}\n",
            "\n",
            "Expected Output:\n",
            "[22, 22, 22, 22, 22, 22, 22, 22, 22]\n",
            "\n",
            "\n",
            "Actual Output:\n",
            "[22, 22, 22, 22, 22, 22, 22, 22, 22]\n",
            "\n",
            "Execution Time:\n",
            "0.014 ms\n",
            "\n",
            "Test Result:\n",
            "\u001b[92mPASSED\u001b[0m\n",
            "\n",
            "\n",
            "\u001b[1mTEST CASE #6\u001b[0m\n"
          ]
        },
        {
          "output_type": "error",
          "ename": "RecursionError",
          "evalue": "maximum recursion depth exceeded in comparison",
          "traceback": [
            "\u001b[0;31m---------------------------------------------------------------------------\u001b[0m",
            "\u001b[0;31mRecursionError\u001b[0m                            Traceback (most recent call last)",
            "\u001b[0;32m<ipython-input-25-fcc8ea82219c>\u001b[0m in \u001b[0;36m<cell line: 1>\u001b[0;34m()\u001b[0m\n\u001b[0;32m----> 1\u001b[0;31m \u001b[0mresults\u001b[0m \u001b[0;34m=\u001b[0m \u001b[0mevaluate_test_cases\u001b[0m\u001b[0;34m(\u001b[0m\u001b[0mquick_sort\u001b[0m\u001b[0;34m,\u001b[0m \u001b[0mtests\u001b[0m\u001b[0;34m)\u001b[0m\u001b[0;34m\u001b[0m\u001b[0;34m\u001b[0m\u001b[0m\n\u001b[0m",
            "\u001b[0;32m/usr/local/lib/python3.10/dist-packages/jovian/pythondsa/__init__.py\u001b[0m in \u001b[0;36mevaluate_test_cases\u001b[0;34m(function, test_cases, error_only, summary_only)\u001b[0m\n\u001b[1;32m     85\u001b[0m         \u001b[0;32mif\u001b[0m \u001b[0;32mnot\u001b[0m \u001b[0merror_only\u001b[0m\u001b[0;34m:\u001b[0m\u001b[0;34m\u001b[0m\u001b[0;34m\u001b[0m\u001b[0m\n\u001b[1;32m     86\u001b[0m             \u001b[0mprint\u001b[0m\u001b[0;34m(\u001b[0m\u001b[0;34m\"\\n\\033[1mTEST CASE #{}\\033[0m\"\u001b[0m\u001b[0;34m.\u001b[0m\u001b[0mformat\u001b[0m\u001b[0;34m(\u001b[0m\u001b[0mi\u001b[0m\u001b[0;34m)\u001b[0m\u001b[0;34m)\u001b[0m\u001b[0;34m\u001b[0m\u001b[0;34m\u001b[0m\u001b[0m\n\u001b[0;32m---> 87\u001b[0;31m         \u001b[0mresult\u001b[0m \u001b[0;34m=\u001b[0m \u001b[0mevaluate_test_case\u001b[0m\u001b[0;34m(\u001b[0m\u001b[0mfunction\u001b[0m\u001b[0;34m,\u001b[0m \u001b[0mtest_case\u001b[0m\u001b[0;34m,\u001b[0m \u001b[0mdisplay\u001b[0m\u001b[0;34m=\u001b[0m\u001b[0;32mFalse\u001b[0m\u001b[0;34m)\u001b[0m\u001b[0;34m\u001b[0m\u001b[0;34m\u001b[0m\u001b[0m\n\u001b[0m\u001b[1;32m     88\u001b[0m         \u001b[0mresults\u001b[0m\u001b[0;34m.\u001b[0m\u001b[0mappend\u001b[0m\u001b[0;34m(\u001b[0m\u001b[0mresult\u001b[0m\u001b[0;34m)\u001b[0m\u001b[0;34m\u001b[0m\u001b[0;34m\u001b[0m\u001b[0m\n\u001b[1;32m     89\u001b[0m         \u001b[0;32mif\u001b[0m \u001b[0merror_only\u001b[0m \u001b[0;32mand\u001b[0m \u001b[0;32mnot\u001b[0m \u001b[0mresult\u001b[0m\u001b[0;34m[\u001b[0m\u001b[0;36m1\u001b[0m\u001b[0;34m]\u001b[0m\u001b[0;34m:\u001b[0m\u001b[0;34m\u001b[0m\u001b[0;34m\u001b[0m\u001b[0m\n",
            "\u001b[0;32m/usr/local/lib/python3.10/dist-packages/jovian/pythondsa/__init__.py\u001b[0m in \u001b[0;36mevaluate_test_case\u001b[0;34m(function, test_case, display)\u001b[0m\n\u001b[1;32m     63\u001b[0m \u001b[0;34m\u001b[0m\u001b[0m\n\u001b[1;32m     64\u001b[0m     \u001b[0mstart\u001b[0m \u001b[0;34m=\u001b[0m \u001b[0mtimer\u001b[0m\u001b[0;34m(\u001b[0m\u001b[0;34m)\u001b[0m\u001b[0;34m\u001b[0m\u001b[0;34m\u001b[0m\u001b[0m\n\u001b[0;32m---> 65\u001b[0;31m     \u001b[0mactual_output\u001b[0m \u001b[0;34m=\u001b[0m \u001b[0mfunction\u001b[0m\u001b[0;34m(\u001b[0m\u001b[0;34m**\u001b[0m\u001b[0minputs\u001b[0m\u001b[0;34m)\u001b[0m\u001b[0;34m\u001b[0m\u001b[0;34m\u001b[0m\u001b[0m\n\u001b[0m\u001b[1;32m     66\u001b[0m     \u001b[0mend\u001b[0m \u001b[0;34m=\u001b[0m \u001b[0mtimer\u001b[0m\u001b[0;34m(\u001b[0m\u001b[0;34m)\u001b[0m\u001b[0;34m\u001b[0m\u001b[0;34m\u001b[0m\u001b[0m\n\u001b[1;32m     67\u001b[0m \u001b[0;34m\u001b[0m\u001b[0m\n",
            "\u001b[0;32m<ipython-input-24-c9b0e08a6753>\u001b[0m in \u001b[0;36mquick_sort\u001b[0;34m(nums, start, end)\u001b[0m\n\u001b[1;32m      6\u001b[0m   \u001b[0;32mif\u001b[0m \u001b[0mstart\u001b[0m \u001b[0;34m<\u001b[0m \u001b[0mend\u001b[0m\u001b[0;34m:\u001b[0m\u001b[0;34m\u001b[0m\u001b[0;34m\u001b[0m\u001b[0m\n\u001b[1;32m      7\u001b[0m     \u001b[0mpivot\u001b[0m \u001b[0;34m=\u001b[0m \u001b[0mpartition\u001b[0m\u001b[0;34m(\u001b[0m\u001b[0mnums\u001b[0m\u001b[0;34m,\u001b[0m\u001b[0mstart\u001b[0m\u001b[0;34m,\u001b[0m\u001b[0mend\u001b[0m\u001b[0;34m)\u001b[0m\u001b[0;34m\u001b[0m\u001b[0;34m\u001b[0m\u001b[0m\n\u001b[0;32m----> 8\u001b[0;31m     \u001b[0mquick_sort\u001b[0m\u001b[0;34m(\u001b[0m\u001b[0mnums\u001b[0m\u001b[0;34m,\u001b[0m \u001b[0mstart\u001b[0m\u001b[0;34m,\u001b[0m \u001b[0mpivot\u001b[0m\u001b[0;34m-\u001b[0m\u001b[0;36m1\u001b[0m\u001b[0;34m)\u001b[0m\u001b[0;34m\u001b[0m\u001b[0;34m\u001b[0m\u001b[0m\n\u001b[0m\u001b[1;32m      9\u001b[0m     \u001b[0mquick_sort\u001b[0m\u001b[0;34m(\u001b[0m\u001b[0mnums\u001b[0m\u001b[0;34m,\u001b[0m \u001b[0mpivot\u001b[0m\u001b[0;34m+\u001b[0m\u001b[0;36m1\u001b[0m\u001b[0;34m,\u001b[0m \u001b[0mend\u001b[0m\u001b[0;34m)\u001b[0m\u001b[0;34m\u001b[0m\u001b[0;34m\u001b[0m\u001b[0m\n\u001b[1;32m     10\u001b[0m \u001b[0;34m\u001b[0m\u001b[0m\n",
            "... last 1 frames repeated, from the frame below ...\n",
            "\u001b[0;32m<ipython-input-24-c9b0e08a6753>\u001b[0m in \u001b[0;36mquick_sort\u001b[0;34m(nums, start, end)\u001b[0m\n\u001b[1;32m      6\u001b[0m   \u001b[0;32mif\u001b[0m \u001b[0mstart\u001b[0m \u001b[0;34m<\u001b[0m \u001b[0mend\u001b[0m\u001b[0;34m:\u001b[0m\u001b[0;34m\u001b[0m\u001b[0;34m\u001b[0m\u001b[0m\n\u001b[1;32m      7\u001b[0m     \u001b[0mpivot\u001b[0m \u001b[0;34m=\u001b[0m \u001b[0mpartition\u001b[0m\u001b[0;34m(\u001b[0m\u001b[0mnums\u001b[0m\u001b[0;34m,\u001b[0m\u001b[0mstart\u001b[0m\u001b[0;34m,\u001b[0m\u001b[0mend\u001b[0m\u001b[0;34m)\u001b[0m\u001b[0;34m\u001b[0m\u001b[0;34m\u001b[0m\u001b[0m\n\u001b[0;32m----> 8\u001b[0;31m     \u001b[0mquick_sort\u001b[0m\u001b[0;34m(\u001b[0m\u001b[0mnums\u001b[0m\u001b[0;34m,\u001b[0m \u001b[0mstart\u001b[0m\u001b[0;34m,\u001b[0m \u001b[0mpivot\u001b[0m\u001b[0;34m-\u001b[0m\u001b[0;36m1\u001b[0m\u001b[0;34m)\u001b[0m\u001b[0;34m\u001b[0m\u001b[0;34m\u001b[0m\u001b[0m\n\u001b[0m\u001b[1;32m      9\u001b[0m     \u001b[0mquick_sort\u001b[0m\u001b[0;34m(\u001b[0m\u001b[0mnums\u001b[0m\u001b[0;34m,\u001b[0m \u001b[0mpivot\u001b[0m\u001b[0;34m+\u001b[0m\u001b[0;36m1\u001b[0m\u001b[0;34m,\u001b[0m \u001b[0mend\u001b[0m\u001b[0;34m)\u001b[0m\u001b[0;34m\u001b[0m\u001b[0;34m\u001b[0m\u001b[0m\n\u001b[1;32m     10\u001b[0m \u001b[0;34m\u001b[0m\u001b[0m\n",
            "\u001b[0;31mRecursionError\u001b[0m: maximum recursion depth exceeded in comparison"
          ]
        }
      ]
    },
    {
      "cell_type": "markdown",
      "source": [
        "### Recursion and Dynamic Programming"
      ],
      "metadata": {
        "id": "vok6vL5n6UTQ"
      }
    },
    {
      "cell_type": "markdown",
      "source": [
        "### Problem 2: Given two sequences, find the longest common subsequence"
      ],
      "metadata": {
        "id": "DMPpZuxK5WwB"
      }
    },
    {
      "cell_type": "code",
      "source": [
        "# test cases\n",
        "\n",
        "T0 = {\n",
        "    'input': {\n",
        "        'seq1': 'serendipitous',\n",
        "        'seq2': 'precipitation'\n",
        "    },\n",
        "    'output': 7\n",
        "}\n",
        "\n",
        "T1 = {\n",
        "    'input': {\n",
        "        'seq1': [1,3,5,6,7,2,5,2,3],\n",
        "        'seq2': [6,2,4,7,1,5,6,2,3]\n",
        "    },\n",
        "    'output': 5\n",
        "}\n",
        "\n",
        "T2 = {\n",
        "    'input': {\n",
        "        'seq1': 'longest',\n",
        "        'seq2': 'stone'\n",
        "    },\n",
        "    'output': 3\n",
        "}\n",
        "\n",
        "T3 = {\n",
        "    'input': {\n",
        "        'seq1': 'asdfwevad',\n",
        "        'seq2': 'opkpoiklklj'\n",
        "    },\n",
        "    'output': 0\n",
        "}\n",
        "\n",
        "T4 = {\n",
        "    'input': {\n",
        "        'seq1': 'dense',\n",
        "        'seq2': 'condense'\n",
        "    },\n",
        "    'output': 5\n",
        "}\n",
        "\n",
        "T5 = {\n",
        "    'input': {\n",
        "        'seq1': '',\n",
        "        'seq2': 'opkpoiklklj'\n",
        "    },\n",
        "    'output': 0\n",
        "}\n",
        "\n",
        "T6 = {\n",
        "    'input': {\n",
        "        'seq1': '',\n",
        "        'seq2': ''\n",
        "    },\n",
        "    'output': 0\n",
        "}\n",
        "\n",
        "T7 = {\n",
        "    'input': {\n",
        "        'seq1': 'abcdef',\n",
        "        'seq2': 'badcfe'\n",
        "    },\n",
        "    'output': 3\n",
        "}\n",
        "\n",
        "lcq_tests = [T0, T1, T2, T3, T4, T5, T6, T7]"
      ],
      "metadata": {
        "id": "RDMfodLU5V2u"
      },
      "execution_count": 26,
      "outputs": []
    },
    {
      "cell_type": "code",
      "source": [
        "# brute force method\n",
        "def lcs_recursive(seq1, seq2, idx1=0, idx2=0):\n",
        "  if idx1==len(seq1) or idx2==len(seq2):\n",
        "    return 0\n",
        "  if seq1[idx1]==seq2[idx2]:\n",
        "    return 1+lcs_recursive(seq1,seq2,idx1+1,idx2+1)\n",
        "  else:\n",
        "    option1=lcs_recursive(seq1,seq2,idx1+1,idx2)\n",
        "    option2=lcs_recursive(seq1,seq2,idx1,idx2+1)\n",
        "    return max(option1, option2)"
      ],
      "metadata": {
        "id": "Rq7AJuBT5ddX"
      },
      "execution_count": 27,
      "outputs": []
    },
    {
      "cell_type": "code",
      "source": [
        "%%time\n",
        "# !pip install jovian\n",
        "# from jovian.pythondsa import evaluate_test_cases\n",
        "results = evaluate_test_cases(lcs_recursive, lcq_tests)"
      ],
      "metadata": {
        "colab": {
          "base_uri": "https://localhost:8080/"
        },
        "id": "YZC1cFwo5eWZ",
        "outputId": "121868a0-a53f-4ee3-97b3-c4327601f5a5"
      },
      "execution_count": 28,
      "outputs": [
        {
          "output_type": "stream",
          "name": "stdout",
          "text": [
            "\n",
            "\u001b[1mTEST CASE #0\u001b[0m\n",
            "\n",
            "Input:\n",
            "{'seq1': 'serendipitous', 'seq2': 'precipitation'}\n",
            "\n",
            "Expected Output:\n",
            "7\n",
            "\n",
            "\n",
            "Actual Output:\n",
            "7\n",
            "\n",
            "Execution Time:\n",
            "325.395 ms\n",
            "\n",
            "Test Result:\n",
            "\u001b[92mPASSED\u001b[0m\n",
            "\n",
            "\n",
            "\u001b[1mTEST CASE #1\u001b[0m\n",
            "\n",
            "Input:\n",
            "{'seq1': [1, 3, 5, 6, 7, 2, 5, 2, 3], 'seq2': [6, 2, 4, 7, 1, 5, 6, 2, 3]}\n",
            "\n",
            "Expected Output:\n",
            "5\n",
            "\n",
            "\n",
            "Actual Output:\n",
            "5\n",
            "\n",
            "Execution Time:\n",
            "4.617 ms\n",
            "\n",
            "Test Result:\n",
            "\u001b[92mPASSED\u001b[0m\n",
            "\n",
            "\n",
            "\u001b[1mTEST CASE #2\u001b[0m\n",
            "\n",
            "Input:\n",
            "{'seq1': 'longest', 'seq2': 'stone'}\n",
            "\n",
            "Expected Output:\n",
            "3\n",
            "\n",
            "\n",
            "Actual Output:\n",
            "3\n",
            "\n",
            "Execution Time:\n",
            "0.211 ms\n",
            "\n",
            "Test Result:\n",
            "\u001b[92mPASSED\u001b[0m\n",
            "\n",
            "\n",
            "\u001b[1mTEST CASE #3\u001b[0m\n",
            "\n",
            "Input:\n",
            "{'seq1': 'asdfwevad', 'seq2': 'opkpoiklklj'}\n",
            "\n",
            "Expected Output:\n",
            "0\n",
            "\n",
            "\n",
            "Actual Output:\n",
            "0\n",
            "\n",
            "Execution Time:\n",
            "88.945 ms\n",
            "\n",
            "Test Result:\n",
            "\u001b[92mPASSED\u001b[0m\n",
            "\n",
            "\n",
            "\u001b[1mTEST CASE #4\u001b[0m\n",
            "\n",
            "Input:\n",
            "{'seq1': 'dense', 'seq2': 'condense'}\n",
            "\n",
            "Expected Output:\n",
            "5\n",
            "\n",
            "\n",
            "Actual Output:\n",
            "5\n",
            "\n",
            "Execution Time:\n",
            "0.137 ms\n",
            "\n",
            "Test Result:\n",
            "\u001b[92mPASSED\u001b[0m\n",
            "\n",
            "\n",
            "\u001b[1mTEST CASE #5\u001b[0m\n",
            "\n",
            "Input:\n",
            "{'seq1': '', 'seq2': 'opkpoiklklj'}\n",
            "\n",
            "Expected Output:\n",
            "0\n",
            "\n",
            "\n",
            "Actual Output:\n",
            "0\n",
            "\n",
            "Execution Time:\n",
            "0.002 ms\n",
            "\n",
            "Test Result:\n",
            "\u001b[92mPASSED\u001b[0m\n",
            "\n",
            "\n",
            "\u001b[1mTEST CASE #6\u001b[0m\n",
            "\n",
            "Input:\n",
            "{'seq1': '', 'seq2': ''}\n",
            "\n",
            "Expected Output:\n",
            "0\n",
            "\n",
            "\n",
            "Actual Output:\n",
            "0\n",
            "\n",
            "Execution Time:\n",
            "0.002 ms\n",
            "\n",
            "Test Result:\n",
            "\u001b[92mPASSED\u001b[0m\n",
            "\n",
            "\n",
            "\u001b[1mTEST CASE #7\u001b[0m\n",
            "\n",
            "Input:\n",
            "{'seq1': 'abcdef', 'seq2': 'badcfe'}\n",
            "\n",
            "Expected Output:\n",
            "3\n",
            "\n",
            "\n",
            "Actual Output:\n",
            "3\n",
            "\n",
            "Execution Time:\n",
            "0.062 ms\n",
            "\n",
            "Test Result:\n",
            "\u001b[92mPASSED\u001b[0m\n",
            "\n",
            "\n",
            "\u001b[1mSUMMARY\u001b[0m\n",
            "\n",
            "TOTAL: 8, \u001b[92mPASSED\u001b[0m: 8, \u001b[91mFAILED\u001b[0m: 0\n",
            "CPU times: user 419 ms, sys: 2 ms, total: 421 ms\n",
            "Wall time: 424 ms\n"
          ]
        }
      ]
    },
    {
      "cell_type": "code",
      "source": [
        "# a more optimized solution\n",
        "def lcs_memo(seq1, seq2):\n",
        "  memo = {}\n",
        "  def recurse(idx1=0, idx2=0):\n",
        "    key = (idx1, idx2)\n",
        "    if key in memo:\n",
        "      return memo[key]\n",
        "    elif idx1==len(seq1) or idx2==len(seq2):\n",
        "      memo[key]=0\n",
        "    elif seq1[idx1]==seq2[idx2]:\n",
        "      memo[key]=1+recurse(idx1+1, idx2+1)\n",
        "    else:\n",
        "      memo[key]=max(recurse(idx1+1, idx2), recurse(idx1,idx2+1))\n",
        "    return memo[key]\n",
        "  return recurse(0,0)"
      ],
      "metadata": {
        "id": "IxmcK3ov5g7Q"
      },
      "execution_count": 29,
      "outputs": []
    },
    {
      "cell_type": "code",
      "source": [
        "%%time\n",
        "# !pip install jovian\n",
        "# from jovian.pythondsa import evaluate_test_cases\n",
        "results = evaluate_test_cases(lcs_memo, lcq_tests)"
      ],
      "metadata": {
        "colab": {
          "base_uri": "https://localhost:8080/"
        },
        "id": "8gNG5VSu5jKQ",
        "outputId": "22716fd6-f15e-4f8e-de7c-7a8489b21908"
      },
      "execution_count": 30,
      "outputs": [
        {
          "output_type": "stream",
          "name": "stdout",
          "text": [
            "\n",
            "\u001b[1mTEST CASE #0\u001b[0m\n",
            "\n",
            "Input:\n",
            "{'seq1': 'serendipitous', 'seq2': 'precipitation'}\n",
            "\n",
            "Expected Output:\n",
            "7\n",
            "\n",
            "\n",
            "Actual Output:\n",
            "7\n",
            "\n",
            "Execution Time:\n",
            "0.16 ms\n",
            "\n",
            "Test Result:\n",
            "\u001b[92mPASSED\u001b[0m\n",
            "\n",
            "\n",
            "\u001b[1mTEST CASE #1\u001b[0m\n",
            "\n",
            "Input:\n",
            "{'seq1': [1, 3, 5, 6, 7, 2, 5, 2, 3], 'seq2': [6, 2, 4, 7, 1, 5, 6, 2, 3]}\n",
            "\n",
            "Expected Output:\n",
            "5\n",
            "\n",
            "\n",
            "Actual Output:\n",
            "5\n",
            "\n",
            "Execution Time:\n",
            "0.076 ms\n",
            "\n",
            "Test Result:\n",
            "\u001b[92mPASSED\u001b[0m\n",
            "\n",
            "\n",
            "\u001b[1mTEST CASE #2\u001b[0m\n",
            "\n",
            "Input:\n",
            "{'seq1': 'longest', 'seq2': 'stone'}\n",
            "\n",
            "Expected Output:\n",
            "3\n",
            "\n",
            "\n",
            "Actual Output:\n",
            "3\n",
            "\n",
            "Execution Time:\n",
            "0.055 ms\n",
            "\n",
            "Test Result:\n",
            "\u001b[92mPASSED\u001b[0m\n",
            "\n",
            "\n",
            "\u001b[1mTEST CASE #3\u001b[0m\n",
            "\n",
            "Input:\n",
            "{'seq1': 'asdfwevad', 'seq2': 'opkpoiklklj'}\n",
            "\n",
            "Expected Output:\n",
            "0\n",
            "\n",
            "\n",
            "Actual Output:\n",
            "0\n",
            "\n",
            "Execution Time:\n",
            "0.113 ms\n",
            "\n",
            "Test Result:\n",
            "\u001b[92mPASSED\u001b[0m\n",
            "\n",
            "\n",
            "\u001b[1mTEST CASE #4\u001b[0m\n",
            "\n",
            "Input:\n",
            "{'seq1': 'dense', 'seq2': 'condense'}\n",
            "\n",
            "Expected Output:\n",
            "5\n",
            "\n",
            "\n",
            "Actual Output:\n",
            "5\n",
            "\n",
            "Execution Time:\n",
            "0.045 ms\n",
            "\n",
            "Test Result:\n",
            "\u001b[92mPASSED\u001b[0m\n",
            "\n",
            "\n",
            "\u001b[1mTEST CASE #5\u001b[0m\n",
            "\n",
            "Input:\n",
            "{'seq1': '', 'seq2': 'opkpoiklklj'}\n",
            "\n",
            "Expected Output:\n",
            "0\n",
            "\n",
            "\n",
            "Actual Output:\n",
            "0\n",
            "\n",
            "Execution Time:\n",
            "0.003 ms\n",
            "\n",
            "Test Result:\n",
            "\u001b[92mPASSED\u001b[0m\n",
            "\n",
            "\n",
            "\u001b[1mTEST CASE #6\u001b[0m\n",
            "\n",
            "Input:\n",
            "{'seq1': '', 'seq2': ''}\n",
            "\n",
            "Expected Output:\n",
            "0\n",
            "\n",
            "\n",
            "Actual Output:\n",
            "0\n",
            "\n",
            "Execution Time:\n",
            "0.003 ms\n",
            "\n",
            "Test Result:\n",
            "\u001b[92mPASSED\u001b[0m\n",
            "\n",
            "\n",
            "\u001b[1mTEST CASE #7\u001b[0m\n",
            "\n",
            "Input:\n",
            "{'seq1': 'abcdef', 'seq2': 'badcfe'}\n",
            "\n",
            "Expected Output:\n",
            "3\n",
            "\n",
            "\n",
            "Actual Output:\n",
            "3\n",
            "\n",
            "Execution Time:\n",
            "0.04 ms\n",
            "\n",
            "Test Result:\n",
            "\u001b[92mPASSED\u001b[0m\n",
            "\n",
            "\n",
            "\u001b[1mSUMMARY\u001b[0m\n",
            "\n",
            "TOTAL: 8, \u001b[92mPASSED\u001b[0m: 8, \u001b[91mFAILED\u001b[0m: 0\n",
            "CPU times: user 1.54 ms, sys: 0 ns, total: 1.54 ms\n",
            "Wall time: 1.39 ms\n"
          ]
        }
      ]
    },
    {
      "cell_type": "code",
      "source": [
        "# dynamic programming solution\n",
        "def lcs_dp(seq1, seq2):\n",
        "  n1, n2 = len(seq1), len(seq2)\n",
        "  table = [[0 for x in range(n2+1)] for x in range(n1+1)]\n",
        "  for i in range(n1):\n",
        "    for j in range(n2):\n",
        "      if seq1[i]==seq2[j]:\n",
        "        table[i+1][j+1]=1+table[i][j]\n",
        "      else:\n",
        "        table[i+1][j+1]=max(table[i][j+1], table[i+1] [j])\n",
        "  return table[-1][-1]"
      ],
      "metadata": {
        "id": "7G6vos0X5lEY"
      },
      "execution_count": 31,
      "outputs": []
    },
    {
      "cell_type": "code",
      "source": [
        "%%time\n",
        "# !pip install jovian\n",
        "# from jovian.pythondsa import evaluate_test_cases\n",
        "results = evaluate_test_cases(lcs_dp, lcq_tests)"
      ],
      "metadata": {
        "colab": {
          "base_uri": "https://localhost:8080/"
        },
        "id": "MjMaa5En5mRU",
        "outputId": "bbb89f8b-9787-4a6d-a8e6-c725a68fbaea"
      },
      "execution_count": 32,
      "outputs": [
        {
          "output_type": "stream",
          "name": "stdout",
          "text": [
            "\n",
            "\u001b[1mTEST CASE #0\u001b[0m\n",
            "\n",
            "Input:\n",
            "{'seq1': 'serendipitous', 'seq2': 'precipitation'}\n",
            "\n",
            "Expected Output:\n",
            "7\n",
            "\n",
            "\n",
            "Actual Output:\n",
            "7\n",
            "\n",
            "Execution Time:\n",
            "0.119 ms\n",
            "\n",
            "Test Result:\n",
            "\u001b[92mPASSED\u001b[0m\n",
            "\n",
            "\n",
            "\u001b[1mTEST CASE #1\u001b[0m\n",
            "\n",
            "Input:\n",
            "{'seq1': [1, 3, 5, 6, 7, 2, 5, 2, 3], 'seq2': [6, 2, 4, 7, 1, 5, 6, 2, 3]}\n",
            "\n",
            "Expected Output:\n",
            "5\n",
            "\n",
            "\n",
            "Actual Output:\n",
            "5\n",
            "\n",
            "Execution Time:\n",
            "0.057 ms\n",
            "\n",
            "Test Result:\n",
            "\u001b[92mPASSED\u001b[0m\n",
            "\n",
            "\n",
            "\u001b[1mTEST CASE #2\u001b[0m\n",
            "\n",
            "Input:\n",
            "{'seq1': 'longest', 'seq2': 'stone'}\n",
            "\n",
            "Expected Output:\n",
            "3\n",
            "\n",
            "\n",
            "Actual Output:\n",
            "3\n",
            "\n",
            "Execution Time:\n",
            "0.037 ms\n",
            "\n",
            "Test Result:\n",
            "\u001b[92mPASSED\u001b[0m\n",
            "\n",
            "\n",
            "\u001b[1mTEST CASE #3\u001b[0m\n",
            "\n",
            "Input:\n",
            "{'seq1': 'asdfwevad', 'seq2': 'opkpoiklklj'}\n",
            "\n",
            "Expected Output:\n",
            "0\n",
            "\n",
            "\n",
            "Actual Output:\n",
            "0\n",
            "\n",
            "Execution Time:\n",
            "0.099 ms\n",
            "\n",
            "Test Result:\n",
            "\u001b[92mPASSED\u001b[0m\n",
            "\n",
            "\n",
            "\u001b[1mTEST CASE #4\u001b[0m\n",
            "\n",
            "Input:\n",
            "{'seq1': 'dense', 'seq2': 'condense'}\n",
            "\n",
            "Expected Output:\n",
            "5\n",
            "\n",
            "\n",
            "Actual Output:\n",
            "5\n",
            "\n",
            "Execution Time:\n",
            "0.036 ms\n",
            "\n",
            "Test Result:\n",
            "\u001b[92mPASSED\u001b[0m\n",
            "\n",
            "\n",
            "\u001b[1mTEST CASE #5\u001b[0m\n",
            "\n",
            "Input:\n",
            "{'seq1': '', 'seq2': 'opkpoiklklj'}\n",
            "\n",
            "Expected Output:\n",
            "0\n",
            "\n",
            "\n",
            "Actual Output:\n",
            "0\n",
            "\n",
            "Execution Time:\n",
            "0.006 ms\n",
            "\n",
            "Test Result:\n",
            "\u001b[92mPASSED\u001b[0m\n",
            "\n",
            "\n",
            "\u001b[1mTEST CASE #6\u001b[0m\n",
            "\n",
            "Input:\n",
            "{'seq1': '', 'seq2': ''}\n",
            "\n",
            "Expected Output:\n",
            "0\n",
            "\n",
            "\n",
            "Actual Output:\n",
            "0\n",
            "\n",
            "Execution Time:\n",
            "0.005 ms\n",
            "\n",
            "Test Result:\n",
            "\u001b[92mPASSED\u001b[0m\n",
            "\n",
            "\n",
            "\u001b[1mTEST CASE #7\u001b[0m\n",
            "\n",
            "Input:\n",
            "{'seq1': 'abcdef', 'seq2': 'badcfe'}\n",
            "\n",
            "Expected Output:\n",
            "3\n",
            "\n",
            "\n",
            "Actual Output:\n",
            "3\n",
            "\n",
            "Execution Time:\n",
            "0.032 ms\n",
            "\n",
            "Test Result:\n",
            "\u001b[92mPASSED\u001b[0m\n",
            "\n",
            "\n",
            "\u001b[1mSUMMARY\u001b[0m\n",
            "\n",
            "TOTAL: 8, \u001b[92mPASSED\u001b[0m: 8, \u001b[91mFAILED\u001b[0m: 0\n",
            "CPU times: user 1.65 ms, sys: 0 ns, total: 1.65 ms\n",
            "Wall time: 1.56 ms\n"
          ]
        }
      ]
    },
    {
      "cell_type": "markdown",
      "source": [
        "### Problem 3: The Knapsack Problem"
      ],
      "metadata": {
        "id": "nVDiXplT5wFe"
      }
    },
    {
      "cell_type": "markdown",
      "source": [
        "Build a team of player, each player has a cost and a rating, given a limited budget, build a team in such a way that the team has the highest rating, there can be any number of players"
      ],
      "metadata": {
        "id": "dXmYJ_7s52hs"
      }
    },
    {
      "cell_type": "code",
      "source": [
        "# test cases\n",
        "\n",
        "test0 = {\n",
        "    'input': {\n",
        "        'capacity': 165,\n",
        "        'weights': [23, 31, 29, 44, 53, 38, 63, 85, 89, 82],\n",
        "        'profits': [92, 57, 49, 68, 60, 43, 67, 84, 87, 72]\n",
        "    },\n",
        "    'output': 309\n",
        "}\n",
        "\n",
        "test1 = {\n",
        "    'input': {\n",
        "        'capacity': 3,\n",
        "        'weights': [4, 5, 6],\n",
        "        'profits': [1, 2, 3]\n",
        "    },\n",
        "    'output': 0\n",
        "}\n",
        "\n",
        "test2 = {\n",
        "    'input': {\n",
        "        'capacity': 4,\n",
        "        'weights': [4, 5, 1],\n",
        "        'profits': [1, 2, 3]\n",
        "    },\n",
        "    'output': 3\n",
        "}\n",
        "\n",
        "test3 = {\n",
        "    'input': {\n",
        "        'capacity': 170,\n",
        "        'weights': [41, 50, 49, 59, 55, 57, 60],\n",
        "        'profits': [442, 525, 511, 593, 546, 564, 617]\n",
        "    },\n",
        "    'output': 1735\n",
        "}\n",
        "\n",
        "test4 = {\n",
        "    'input': {\n",
        "        'capacity': 15,\n",
        "        'weights': [4, 5, 6],\n",
        "        'profits': [1, 2, 3]\n",
        "    },\n",
        "    'output': 6\n",
        "}\n",
        "\n",
        "test5 = {\n",
        "    'input': {\n",
        "        'capacity': 15,\n",
        "        'weights': [4, 5, 1, 3, 2, 5],\n",
        "        'profits': [2, 3, 1, 5, 4, 7]\n",
        "    },\n",
        "    'output': 19\n",
        "}\n",
        "\n",
        "tests = [test0, test1, test2, test3, test4, test5]"
      ],
      "metadata": {
        "id": "B9axjrlZ52Kd"
      },
      "execution_count": 33,
      "outputs": []
    },
    {
      "cell_type": "code",
      "source": [
        "def max_profit_recursive(weights, profits, capacity, idx=0):\n",
        "  if idx == len(weights):\n",
        "    return 0\n",
        "  elif weights[idx]>capacity:\n",
        "    return max_profit_recursive(weights, profits, capacity, idx+1)\n",
        "  else:\n",
        "    option1=max_profit_recursive(weights, profits, capacity, idx+1)\n",
        "    option2=profits[idx]+max_profit_recursive(weights, profits, capacity-weights[idx], idx+1)\n",
        "    return max(option1, option2)"
      ],
      "metadata": {
        "id": "09jsiJ9f51jf"
      },
      "execution_count": 34,
      "outputs": []
    },
    {
      "cell_type": "code",
      "source": [
        "%%time\n",
        "# !pip install jovian\n",
        "# from jovian.pythondsa import evaluate_test_cases\n",
        "results = evaluate_test_cases(max_profit_recursive, tests)"
      ],
      "metadata": {
        "colab": {
          "base_uri": "https://localhost:8080/"
        },
        "id": "gtiGEp3S5-Tu",
        "outputId": "6cbeb218-1d35-44c0-a830-d28dff7f2629"
      },
      "execution_count": 35,
      "outputs": [
        {
          "output_type": "stream",
          "name": "stdout",
          "text": [
            "\n",
            "\u001b[1mTEST CASE #0\u001b[0m\n",
            "\n",
            "Input:\n",
            "{'capacity': 165, 'weights': [23, 31, 29, 44, 53, 38, 63, 85, 89, 82], 'profits': [92, 57, 49, 68, 6...\n",
            "\n",
            "Expected Output:\n",
            "309\n",
            "\n",
            "\n",
            "Actual Output:\n",
            "309\n",
            "\n",
            "Execution Time:\n",
            "0.162 ms\n",
            "\n",
            "Test Result:\n",
            "\u001b[92mPASSED\u001b[0m\n",
            "\n",
            "\n",
            "\u001b[1mTEST CASE #1\u001b[0m\n",
            "\n",
            "Input:\n",
            "{'capacity': 3, 'weights': [4, 5, 6], 'profits': [1, 2, 3]}\n",
            "\n",
            "Expected Output:\n",
            "0\n",
            "\n",
            "\n",
            "Actual Output:\n",
            "0\n",
            "\n",
            "Execution Time:\n",
            "0.005 ms\n",
            "\n",
            "Test Result:\n",
            "\u001b[92mPASSED\u001b[0m\n",
            "\n",
            "\n",
            "\u001b[1mTEST CASE #2\u001b[0m\n",
            "\n",
            "Input:\n",
            "{'capacity': 4, 'weights': [4, 5, 1], 'profits': [1, 2, 3]}\n",
            "\n",
            "Expected Output:\n",
            "3\n",
            "\n",
            "\n",
            "Actual Output:\n",
            "3\n",
            "\n",
            "Execution Time:\n",
            "0.007 ms\n",
            "\n",
            "Test Result:\n",
            "\u001b[92mPASSED\u001b[0m\n",
            "\n",
            "\n",
            "\u001b[1mTEST CASE #3\u001b[0m\n",
            "\n",
            "Input:\n",
            "{'capacity': 170, 'weights': [41, 50, 49, 59, 55, 57, 60], 'profits': [442, 525, 511, 593, 546, 564,...\n",
            "\n",
            "Expected Output:\n",
            "1735\n",
            "\n",
            "\n",
            "Actual Output:\n",
            "1735\n",
            "\n",
            "Execution Time:\n",
            "0.07 ms\n",
            "\n",
            "Test Result:\n",
            "\u001b[92mPASSED\u001b[0m\n",
            "\n",
            "\n",
            "\u001b[1mTEST CASE #4\u001b[0m\n",
            "\n",
            "Input:\n",
            "{'capacity': 15, 'weights': [4, 5, 6], 'profits': [1, 2, 3]}\n",
            "\n",
            "Expected Output:\n",
            "6\n",
            "\n",
            "\n",
            "Actual Output:\n",
            "6\n",
            "\n",
            "Execution Time:\n",
            "0.011 ms\n",
            "\n",
            "Test Result:\n",
            "\u001b[92mPASSED\u001b[0m\n",
            "\n",
            "\n",
            "\u001b[1mTEST CASE #5\u001b[0m\n",
            "\n",
            "Input:\n",
            "{'capacity': 15, 'weights': [4, 5, 1, 3, 2, 5], 'profits': [2, 3, 1, 5, 4, 7]}\n",
            "\n",
            "Expected Output:\n",
            "19\n",
            "\n",
            "\n",
            "Actual Output:\n",
            "19\n",
            "\n",
            "Execution Time:\n",
            "0.065 ms\n",
            "\n",
            "Test Result:\n",
            "\u001b[92mPASSED\u001b[0m\n",
            "\n",
            "\n",
            "\u001b[1mSUMMARY\u001b[0m\n",
            "\n",
            "TOTAL: 6, \u001b[92mPASSED\u001b[0m: 6, \u001b[91mFAILED\u001b[0m: 0\n",
            "CPU times: user 1.28 ms, sys: 2 µs, total: 1.29 ms\n",
            "Wall time: 1.15 ms\n"
          ]
        }
      ]
    },
    {
      "cell_type": "code",
      "source": [
        "# dynamic programming solution\n",
        "def max_profit_dp(weights, profits, capacity):\n",
        "  n = len(weights)\n",
        "  table = [[0 for _ in range(capacity+1)] for _ in range(n+1)]\n",
        "  for i in range(n):\n",
        "    for c in range(1,capacity+1):\n",
        "      if weights[i]>c:\n",
        "        table[i+1][c]=table[i][c]\n",
        "      else:\n",
        "        table[i+1][c]=max(table[i][c], profits[i]+table[i][c-weights[i]])\n",
        "  return table[-1][-1]"
      ],
      "metadata": {
        "id": "nBnW6rua6AKq"
      },
      "execution_count": 36,
      "outputs": []
    },
    {
      "cell_type": "code",
      "source": [
        "%%time\n",
        "# !pip install jovian\n",
        "# from jovian.pythondsa import evaluate_test_cases\n",
        "results = evaluate_test_cases(max_profit_dp, tests)"
      ],
      "metadata": {
        "colab": {
          "base_uri": "https://localhost:8080/"
        },
        "id": "zM_y3YuQ6Cx8",
        "outputId": "4ef8c12f-9e53-4926-ab98-06c6cbe25ac0"
      },
      "execution_count": 37,
      "outputs": [
        {
          "output_type": "stream",
          "name": "stdout",
          "text": [
            "\n",
            "\u001b[1mTEST CASE #0\u001b[0m\n",
            "\n",
            "Input:\n",
            "{'capacity': 165, 'weights': [23, 31, 29, 44, 53, 38, 63, 85, 89, 82], 'profits': [92, 57, 49, 68, 6...\n",
            "\n",
            "Expected Output:\n",
            "309\n",
            "\n",
            "\n",
            "Actual Output:\n",
            "309\n",
            "\n",
            "Execution Time:\n",
            "1.045 ms\n",
            "\n",
            "Test Result:\n",
            "\u001b[92mPASSED\u001b[0m\n",
            "\n",
            "\n",
            "\u001b[1mTEST CASE #1\u001b[0m\n",
            "\n",
            "Input:\n",
            "{'capacity': 3, 'weights': [4, 5, 6], 'profits': [1, 2, 3]}\n",
            "\n",
            "Expected Output:\n",
            "0\n",
            "\n",
            "\n",
            "Actual Output:\n",
            "0\n",
            "\n",
            "Execution Time:\n",
            "0.024 ms\n",
            "\n",
            "Test Result:\n",
            "\u001b[92mPASSED\u001b[0m\n",
            "\n",
            "\n",
            "\u001b[1mTEST CASE #2\u001b[0m\n",
            "\n",
            "Input:\n",
            "{'capacity': 4, 'weights': [4, 5, 1], 'profits': [1, 2, 3]}\n",
            "\n",
            "Expected Output:\n",
            "3\n",
            "\n",
            "\n",
            "Actual Output:\n",
            "3\n",
            "\n",
            "Execution Time:\n",
            "0.019 ms\n",
            "\n",
            "Test Result:\n",
            "\u001b[92mPASSED\u001b[0m\n",
            "\n",
            "\n",
            "\u001b[1mTEST CASE #3\u001b[0m\n",
            "\n",
            "Input:\n",
            "{'capacity': 170, 'weights': [41, 50, 49, 59, 55, 57, 60], 'profits': [442, 525, 511, 593, 546, 564,...\n",
            "\n",
            "Expected Output:\n",
            "1735\n",
            "\n",
            "\n",
            "Actual Output:\n",
            "1735\n",
            "\n",
            "Execution Time:\n",
            "0.777 ms\n",
            "\n",
            "Test Result:\n",
            "\u001b[92mPASSED\u001b[0m\n",
            "\n",
            "\n",
            "\u001b[1mTEST CASE #4\u001b[0m\n",
            "\n",
            "Input:\n",
            "{'capacity': 15, 'weights': [4, 5, 6], 'profits': [1, 2, 3]}\n",
            "\n",
            "Expected Output:\n",
            "6\n",
            "\n",
            "\n",
            "Actual Output:\n",
            "6\n",
            "\n",
            "Execution Time:\n",
            "0.04 ms\n",
            "\n",
            "Test Result:\n",
            "\u001b[92mPASSED\u001b[0m\n",
            "\n",
            "\n",
            "\u001b[1mTEST CASE #5\u001b[0m\n",
            "\n",
            "Input:\n",
            "{'capacity': 15, 'weights': [4, 5, 1, 3, 2, 5], 'profits': [2, 3, 1, 5, 4, 7]}\n",
            "\n",
            "Expected Output:\n",
            "19\n",
            "\n",
            "\n",
            "Actual Output:\n",
            "19\n",
            "\n",
            "Execution Time:\n",
            "0.073 ms\n",
            "\n",
            "Test Result:\n",
            "\u001b[92mPASSED\u001b[0m\n",
            "\n",
            "\n",
            "\u001b[1mSUMMARY\u001b[0m\n",
            "\n",
            "TOTAL: 6, \u001b[92mPASSED\u001b[0m: 6, \u001b[91mFAILED\u001b[0m: 0\n",
            "CPU times: user 6.64 ms, sys: 0 ns, total: 6.64 ms\n",
            "Wall time: 6.66 ms\n"
          ]
        }
      ]
    },
    {
      "cell_type": "markdown",
      "source": [
        "### Graph Algorithms"
      ],
      "metadata": {
        "id": "GtHA6S0H6LJQ"
      }
    },
    {
      "cell_type": "code",
      "source": [],
      "metadata": {
        "id": "3q-LRYnA6OCu"
      },
      "execution_count": null,
      "outputs": []
    },
    {
      "cell_type": "markdown",
      "source": [
        "### Peoblem 4: You are given an array of numbers (non-negative). Find a continuous subarray of the list which adds up to a given sum."
      ],
      "metadata": {
        "id": "3JOof0uN6Ofv"
      }
    },
    {
      "cell_type": "code",
      "source": [
        "arr = [1,7,4,2,1,3]\n",
        "target=10\n",
        "output=2,6\n",
        "\n",
        "def subarray_sum(arr,target):\n",
        "  n = len(arr)\n",
        "  # i goes from 0 to n-1\n",
        "  for i in range(0,n):\n",
        "    # j goes from i to n\n",
        "    for j in range(0,n+1):\n",
        "    # checking if subarray sum equals to the target\n",
        "      if sum(arr[i:j])==target:\n",
        "        return i,j\n",
        "  return None,None\n",
        "\n",
        "'''\n",
        "Possible test cases:\n",
        "1. Subarry is in the middle\n",
        "2. Subarry is last\n",
        "3. Subarry is last\n",
        "4. There is no Subarry\n",
        "5. Multiple Subarry\n",
        "6. Array is empty\n",
        "'''"
      ],
      "metadata": {
        "colab": {
          "base_uri": "https://localhost:8080/",
          "height": 36
        },
        "id": "tH3itykF6t-l",
        "outputId": "6a6710c0-c64b-4210-f4ca-b945bd934d2b"
      },
      "execution_count": 38,
      "outputs": [
        {
          "output_type": "execute_result",
          "data": {
            "text/plain": [
              "'\\nPossible test cases:\\n1. Subarry is in the middle\\n2. Subarry is last\\n3. Subarry is last\\n4. There is no Subarry\\n5. Multiple Subarry\\n6. Array is empty\\n'"
            ],
            "application/vnd.google.colaboratory.intrinsic+json": {
              "type": "string"
            }
          },
          "metadata": {},
          "execution_count": 38
        }
      ]
    },
    {
      "cell_type": "code",
      "source": [
        "%%time\n",
        "subarray_sum(arr, target)"
      ],
      "metadata": {
        "colab": {
          "base_uri": "https://localhost:8080/"
        },
        "id": "F2LCE51L61lw",
        "outputId": "3105f249-b3eb-4c52-a228-c810b8a3c34c"
      },
      "execution_count": 39,
      "outputs": [
        {
          "output_type": "stream",
          "name": "stdout",
          "text": [
            "CPU times: user 11 µs, sys: 0 ns, total: 11 µs\n",
            "Wall time: 13.8 µs\n"
          ]
        },
        {
          "output_type": "execute_result",
          "data": {
            "text/plain": [
              "(2, 6)"
            ]
          },
          "metadata": {},
          "execution_count": 39
        }
      ]
    },
    {
      "cell_type": "code",
      "source": [
        "'''\n",
        "some optimizations for the above solution\n",
        "maintain a runnning sum in inner loop\n",
        "when sum exceeds target, break inner loop\n",
        "'''\n",
        "def subarray_sum2(arr,target):\n",
        "  n = len(arr)\n",
        "  # i goes from 0 to n-1\n",
        "  for i in range(0,n):\n",
        "    s=0 # running sum\n",
        "    for j in range(i,n+1):\n",
        "      if s==target:\n",
        "        return i,j\n",
        "      elif s>target:\n",
        "        break\n",
        "      if j<n:\n",
        "        s+=arr[j]\n",
        "  return None,None"
      ],
      "metadata": {
        "id": "7XTJJja764EG"
      },
      "execution_count": 40,
      "outputs": []
    },
    {
      "cell_type": "code",
      "source": [
        "%%time\n",
        "subarray_sum2(arr, target)"
      ],
      "metadata": {
        "colab": {
          "base_uri": "https://localhost:8080/"
        },
        "id": "6vjLrLxl65e1",
        "outputId": "14ce258e-9936-412c-f588-e4355369dd2d"
      },
      "execution_count": 41,
      "outputs": [
        {
          "output_type": "stream",
          "name": "stdout",
          "text": [
            "CPU times: user 11 µs, sys: 0 ns, total: 11 µs\n",
            "Wall time: 13.8 µs\n"
          ]
        },
        {
          "output_type": "execute_result",
          "data": {
            "text/plain": [
              "(2, 6)"
            ]
          },
          "metadata": {},
          "execution_count": 41
        }
      ]
    },
    {
      "cell_type": "code",
      "source": [
        "# a more optimized solution\n",
        "def subarray_sum3(arr,target):\n",
        "  n = len(arr)\n",
        "  i,j,s=0,0,0\n",
        "  while i<n and j<n+1:\n",
        "    if s==target:\n",
        "      return i,j\n",
        "    elif s<target:\n",
        "      if j<n:\n",
        "        s+=arr[j]\n",
        "      j+=1\n",
        "    elif s>target:\n",
        "      s-=arr[i]\n",
        "      i+=1\n",
        "  return None,None"
      ],
      "metadata": {
        "id": "NTzrzqYO66lc"
      },
      "execution_count": 42,
      "outputs": []
    },
    {
      "cell_type": "code",
      "source": [
        "%%time\n",
        "subarray_sum3(arr, target)"
      ],
      "metadata": {
        "colab": {
          "base_uri": "https://localhost:8080/"
        },
        "id": "iUiG9UZ268OG",
        "outputId": "1b78a4b4-3969-4d7a-ab29-8272a1fc8c9a"
      },
      "execution_count": 43,
      "outputs": [
        {
          "output_type": "stream",
          "name": "stdout",
          "text": [
            "CPU times: user 9 µs, sys: 0 ns, total: 9 µs\n",
            "Wall time: 12.2 µs\n"
          ]
        },
        {
          "output_type": "execute_result",
          "data": {
            "text/plain": [
              "(2, 6)"
            ]
          },
          "metadata": {},
          "execution_count": 43
        }
      ]
    },
    {
      "cell_type": "markdown",
      "source": [
        "### Problem 5: Given two strings A and B, find the minimum number of steps required to convert A to B. (each operation is counted as 1 step.) You have the following 3 operations permitted on a word:\n",
        "1. Insert a character\n",
        "2. Delete a character\n",
        "3. Replace a character"
      ],
      "metadata": {
        "id": "F-tAtSmp7CoV"
      }
    },
    {
      "cell_type": "code",
      "source": [
        "str1='intention'\n",
        "str2='execution'\n",
        "\n",
        "def min_steps(str1,str2,i1=0,i2=0):\n",
        "  if i1==len(str1):\n",
        "    return len(str2)-i2\n",
        "  elif i2==len(str2):\n",
        "    return len(str1)-i1\n",
        "  elif str1[i1]==str2[i2]:\n",
        "    return min_steps(str1,str2,i1+1,i2+1)\n",
        "  else:\n",
        "    return 1+min(min_steps(str1,str2,i1+1,i2),   # deleted\n",
        "                 min_steps(str1,str2,i1+1,i2+1), # swap\n",
        "                 min_steps(str1,str2,i1,i2+1))   # inserted"
      ],
      "metadata": {
        "id": "AkQVE8zJ7CdD"
      },
      "execution_count": 44,
      "outputs": []
    },
    {
      "cell_type": "code",
      "source": [
        "min_steps(str1,str2)"
      ],
      "metadata": {
        "colab": {
          "base_uri": "https://localhost:8080/"
        },
        "id": "WN37jXK87ZnJ",
        "outputId": "2656d34e-e02a-4f82-ff11-1931d7767295"
      },
      "execution_count": 45,
      "outputs": [
        {
          "output_type": "execute_result",
          "data": {
            "text/plain": [
              "5"
            ]
          },
          "metadata": {},
          "execution_count": 45
        }
      ]
    }
  ]
}